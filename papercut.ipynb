{
 "cells": [
  {
   "cell_type": "code",
   "execution_count": 16,
   "metadata": {},
   "outputs": [],
   "source": [
    "import os\n",
    "from os import path\n"
   ]
  },
  {
   "cell_type": "code",
   "execution_count": 17,
   "metadata": {},
   "outputs": [],
   "source": [
    "chemin = os.getenv(\"HOMEPATH\")\n",
    "if(not path.isdir(\"C:/report\")):# if repertoire repertoire C:\\report n existe pas\n",
    "    os.mkdir(\"C:/report\")\n",
    "\n",
    "if(not path.isdir(chemin+\"/chemin\")):# if repertoire chemin n existe pas\n",
    "    os.mkdir(chemin+\"/chemin\")\n",
    "    "
   ]
  },
  {
   "cell_type": "code",
   "execution_count": 4,
   "metadata": {},
   "outputs": [],
   "source": [
    "# si chemin.txt n existe pas il faut le creer \n",
    "if ( not path.exists(chemin+\"/chemin/chemin.txt\")):\n",
    "    try:\n",
    "        import Tkinter as tk\n",
    "        import ttk\n",
    "        import tkFileDialog as filedialog\n",
    "    except ImportError:\n",
    "        import tkinter as tk\n",
    "        import tkinter.ttk as ttk\n",
    "        \n",
    "        from tkinter import filedialog\n",
    "        \n",
    "        \n",
    "        #from tkfilebrowser import askopendirname, askopenfilenames, asksaveasfilename\n",
    "\n",
    "\n",
    "        root = tk.Tk()\n",
    "        rep=\"\"\n",
    "        style = ttk.Style(root)\n",
    "        style.theme_use(\"clam\")\n",
    "\n",
    "\n",
    "    \n",
    "\n",
    "\n",
    "    def c_open_dir_old():\n",
    "        rep = filedialog.askdirectory(parent=root, initialdir='/tmp')\n",
    "        #file1 = open(r\"/Program Files/Papercut analyse/chemin.txt\",\"w\")\n",
    "        chemin = os.getenv(\"HOMEPATH\")\n",
    "\n",
    "        file1 = open(r\"\"+chemin+\"/chemin/chemin.txt\",\"w\")\n",
    "    \n",
    "        file1.write( rep+\"/\")\n",
    "        file1.close()\n",
    "        print(rep)    \n",
    "\n",
    "    \n",
    "\n",
    "\n",
    "\n",
    "    #ttk.Button(root, text=\"Open files\", command=c_open_file_old).grid(row=1, column=0, padx=4, pady=4, sticky='ew')\n",
    "    rep = ttk.Button(root, text=\"logs repertoire\", command=c_open_dir_old).grid(row=2, column=0, padx=4, pady=4, sticky='ew')\n",
    "\n",
    "\n",
    "    root.mainloop()\n"
   ]
  },
  {
   "cell_type": "code",
   "execution_count": 5,
   "metadata": {},
   "outputs": [],
   "source": [
    "# Import Required Library\n",
    "from tkinter import *\n",
    "from tkcalendar import Calendar\n",
    "from datetime import datetime\n",
    "# Create Object\n",
    "root = Tk()\n",
    " \n",
    "# Set geometry\n",
    "root.geometry(\"400x400\")\n",
    "  \n",
    "# Add Calender\n",
    "#cal = Calendar(root, selectmode = 'day',\n",
    "#               year = 2021, month = 4,\n",
    "#               day = 20)\n",
    "cal = Calendar(root, selectmode = 'day'\n",
    "               )\n",
    "  \n",
    "cal.pack(pady = 20)\n",
    "\n",
    "def grad_date():\n",
    "    global date_time_str\n",
    "    date.config(text = \"Selected Date is: \" + cal.get_date())\n",
    "    date_time_str = cal.get_date() \n",
    "    \n",
    "#Add Button and Label\n",
    "\n",
    "Button(root, text = \"Get Date\", command = grad_date).pack(pady = 20)\n",
    "\n",
    "date = Label(root, text = \" \")\n",
    "date.pack(pady = 20)\n",
    "\n",
    "\n",
    "\n",
    "\n",
    "\n",
    "\n",
    "#date_time_obj.strftime(\"%Y-%m-%d\")\n",
    "\n",
    "# Excecute Tkinter\n",
    "root.mainloop()\n",
    "date_time_obj = datetime. strptime(date_time_str, '%m/%d/%y')\n"
   ]
  },
  {
   "cell_type": "code",
   "execution_count": 5,
   "metadata": {},
   "outputs": [
    {
     "name": "stdout",
     "output_type": "stream",
     "text": [
      "C:/Users/Jiegoue/Documents/Nouveau dossier (3)/csv/daily/\n"
     ]
    }
   ],
   "source": [
    "chemin = os.getenv(\"HOMEPATH\")\n",
    "\n",
    "file1 = open(r\"\"+chemin+\"/chemin/chemin.txt\",\"r\")\n",
    "chemin1  = file1.read()\n",
    "file1.close()\n",
    "print(chemin1)"
   ]
  },
  {
   "cell_type": "code",
   "execution_count": 13,
   "metadata": {},
   "outputs": [],
   "source": [
    "import pandas as pd\n",
    "import os\n",
    "chemin = os.getenv(\"HOMEPATH\")\n",
    "\n",
    "file1 = open(r\"\"+chemin+\"/chemin/chemin.txt\",\"r\")\n",
    "file1.close()\n",
    "\n",
    "\n",
    "#path = 'C:/Users/Jiegoue/Documents/Nouveau dossier (3)/csv/daily/'\n",
    "#path = chemin1\n",
    "lettre = \"papercut-print-log\"\n",
    "files = os.listdir(chemin1)\n",
    "po = pd.DataFrame(columns=['Time','User','Pages','Copies', 'Printer', 'Document Name', 'Client', \n",
    "    'Paper Size', 'Language', 'Height', 'Width', 'Duplex', 'Grayscale', 'Size'])\n",
    "for name in files:\n",
    "    if lettre in name:\n",
    "        \n",
    "        p = pd.read_csv(chemin1+name, skiprows=[0], index_col=False, encoding='latin1' )\n",
    "        po = pd.concat([po,p], ignore_index=True)"
   ]
  },
  {
   "cell_type": "code",
   "execution_count": 14,
   "metadata": {},
   "outputs": [
    {
     "ename": "NameError",
     "evalue": "name 'datetime' is not defined",
     "output_type": "error",
     "traceback": [
      "\u001b[1;31m---------------------------------------------------------------------------\u001b[0m",
      "\u001b[1;31mNameError\u001b[0m                                 Traceback (most recent call last)",
      "\u001b[1;32m<ipython-input-14-a8b36b34ef95>\u001b[0m in \u001b[0;36m<module>\u001b[1;34m\u001b[0m\n\u001b[0;32m      2\u001b[0m \u001b[0mn\u001b[0m \u001b[1;33m=\u001b[0m \u001b[0mpo\u001b[0m\u001b[1;33m[\u001b[0m\u001b[1;34m'Time'\u001b[0m\u001b[1;33m]\u001b[0m\u001b[1;33m.\u001b[0m\u001b[0mshape\u001b[0m\u001b[1;33m[\u001b[0m\u001b[1;36m0\u001b[0m\u001b[1;33m]\u001b[0m\u001b[1;33m\u001b[0m\u001b[1;33m\u001b[0m\u001b[0m\n\u001b[0;32m      3\u001b[0m \u001b[1;32mfor\u001b[0m \u001b[0mi\u001b[0m \u001b[1;32min\u001b[0m \u001b[0mrange\u001b[0m\u001b[1;33m(\u001b[0m\u001b[0mn\u001b[0m\u001b[1;33m)\u001b[0m\u001b[1;33m:\u001b[0m\u001b[1;33m\u001b[0m\u001b[1;33m\u001b[0m\u001b[0m\n\u001b[1;32m----> 4\u001b[1;33m     \u001b[0mdate_time\u001b[0m \u001b[1;33m=\u001b[0m \u001b[0mdatetime\u001b[0m\u001b[1;33m.\u001b[0m\u001b[0mstrptime\u001b[0m\u001b[1;33m(\u001b[0m\u001b[0mstr\u001b[0m\u001b[1;33m(\u001b[0m\u001b[0mpo\u001b[0m\u001b[1;33m[\u001b[0m\u001b[1;34m'Time'\u001b[0m\u001b[1;33m]\u001b[0m\u001b[1;33m[\u001b[0m\u001b[0mi\u001b[0m\u001b[1;33m]\u001b[0m\u001b[1;33m)\u001b[0m\u001b[1;33m,\u001b[0m \u001b[1;34m\"%Y-%m-%d %H:%M:%S\"\u001b[0m\u001b[1;33m)\u001b[0m\u001b[1;33m\u001b[0m\u001b[1;33m\u001b[0m\u001b[0m\n\u001b[0m\u001b[0;32m      5\u001b[0m     \u001b[0mpo\u001b[0m\u001b[1;33m[\u001b[0m\u001b[1;34m'Time'\u001b[0m\u001b[1;33m]\u001b[0m\u001b[1;33m[\u001b[0m\u001b[0mi\u001b[0m\u001b[1;33m]\u001b[0m \u001b[1;33m=\u001b[0m \u001b[0mdate_time\u001b[0m\u001b[1;33m.\u001b[0m\u001b[0mstrftime\u001b[0m\u001b[1;33m(\u001b[0m\u001b[1;34m\"%Y-%m-%d\"\u001b[0m\u001b[1;33m)\u001b[0m\u001b[1;33m\u001b[0m\u001b[1;33m\u001b[0m\u001b[0m\n\u001b[0;32m      6\u001b[0m \u001b[1;33m\u001b[0m\u001b[0m\n",
      "\u001b[1;31mNameError\u001b[0m: name 'datetime' is not defined"
     ]
    }
   ],
   "source": [
    "po = po.astype({ \"Time\":\"string\"})\n",
    "n = po['Time'].shape[0]\n",
    "for i in range(n):\n",
    "    date_time = datetime.strptime(str(po['Time'][i]), \"%Y-%m-%d %H:%M:%S\")\n",
    "    po['Time'][i] = date_time.strftime(\"%Y-%m-%d\")\n",
    "    "
   ]
  },
  {
   "cell_type": "code",
   "execution_count": null,
   "metadata": {},
   "outputs": [],
   "source": [
    "po['Time'] = pd.to_datetime(po['Time'])\n",
    "date_time_obj = pd.to_datetime(date_time_obj)\n",
    "\n",
    "po = po[po['Time'] >= date_time_obj]"
   ]
  },
  {
   "cell_type": "code",
   "execution_count": null,
   "metadata": {},
   "outputs": [],
   "source": [
    "po[\"total copies\"] = po[\"Pages\"]*po[\"Copies\"]"
   ]
  },
  {
   "cell_type": "code",
   "execution_count": null,
   "metadata": {},
   "outputs": [],
   "source": [
    "s = po.groupby(\"Printer\").agg({\"total copies\":sum})\n",
    "s.reset_index(inplace=True)\n",
    "\n",
    "s[\"prix_unitaire\"] = 0\n",
    "s[\"montant\"] = 0"
   ]
  },
  {
   "cell_type": "code",
   "execution_count": null,
   "metadata": {},
   "outputs": [],
   "source": [
    "tarif = pd.read_csv(r\"\"+chemin+\"/chemin/tarif.csv\", sep=';')\n",
    "def prix(type_imprimante): \n",
    "    for i in tarif.index:\n",
    "        if type_imprimante in tarif[\"imprimante\"][i]:\n",
    "            return(tarif[\"prix\"][i])\n",
    "        "
   ]
  },
  {
   "cell_type": "code",
   "execution_count": null,
   "metadata": {},
   "outputs": [],
   "source": [
    "for num in s.index:\n",
    "    if \"noir\" in s[\"Printer\"][num]:\n",
    "        s[\"prix_unitaire\"][num] = prix(\"noir\")\n",
    "        s[\"montant\"][num] = s[\"total copies\"][num]*prix(\"noir\")\n",
    "        \n",
    "    else: \n",
    "        s[\"prix_unitaire\"][num] = prix(\"couleur\")\n",
    "        s[\"montant\"][num] = s[\"total copies\"][num]*prix(\"couleur\")\n",
    "        "
   ]
  },
  {
   "cell_type": "code",
   "execution_count": null,
   "metadata": {},
   "outputs": [],
   "source": [
    "\n",
    "s.to_excel(chemin+\"/chemin/test.xlsx\", index=False, startrow=2)\n",
    "import shutil"
   ]
  },
  {
   "cell_type": "code",
   "execution_count": null,
   "metadata": {},
   "outputs": [],
   "source": [
    "import openpyxl as xl\n",
    "wb = xl.load_workbook(chemin+\"/chemin/test.xlsx\")\n",
    "sheet = wb['Sheet1']\n",
    "periode_de = sheet.cell(1,2)\n",
    "periode_fin = sheet.cell(1,4)\n",
    "du = sheet.cell(1,1)\n",
    "au = sheet.cell(1,3)\n",
    "periode_de.value = po['Time'].iloc[0].date().strftime(\"%d/%m/%Y\")\n",
    "periode_fin.value = po['Time'].iloc[-1].date().strftime(\"%d/%m/%Y\")\n",
    "du.value = \"du\"\n",
    "au.value = \"au\"\n",
    "#wb.save(chemin+\"/chemin/report.xlsx\")\n"
   ]
  },
  {
   "cell_type": "code",
   "execution_count": null,
   "metadata": {},
   "outputs": [],
   "source": [
    "# modifier la largeur des colonnes\n",
    "from openpyxl.utils import get_column_letter\n",
    "\n",
    "column_widths = []\n",
    "for row in sheet:\n",
    "    for i, cell in enumerate(row):\n",
    "        if len(column_widths) > i:\n",
    "            if len(str(cell.value)) > column_widths[i]:\n",
    "                column_widths[i] = len(str(cell.value))\n",
    "                \n",
    "        else:\n",
    "            \n",
    "            column_widths += [len(str(cell.value))]\n",
    "            t = 1\n",
    "\n",
    "for i, column_width in enumerate(column_widths):\n",
    "    sheet.column_dimensions[get_column_letter(i+1)].width = column_width\n",
    "wb.save(chemin+\"/chemin/report.xlsx\")\n"
   ]
  },
  {
   "cell_type": "code",
   "execution_count": 19,
   "metadata": {},
   "outputs": [],
   "source": [
    "from win32com import client\n",
    "#import win32api\n",
    "input_file = r\"\"+chemin+\"/chemin/report.xlsx\"\n",
    "#give your file name with valid path \n",
    "output_file = r\"\"+chemin+\"/chemin/report.pdf\"\n",
    "#give valid output file name and path\n",
    "app = client.DispatchEx(\"Excel.Application\")\n",
    "app.Interactive = False\n",
    "app.Visible = False\n",
    "Workbook = app.Workbooks.Open(input_file)\n",
    "try:\n",
    "    Workbook.ActiveSheet.ExportAsFixedFormat(0, output_file)\n",
    "except Exception as e:\n",
    "    print(\"Failed to convert in PDF format.Please confirm environment meets all the requirements  and try again\")\n",
    "    print(str(e))\n",
    "finally:\n",
    "    Workbook.Close()\n",
    "    app.Quit()\n"
   ]
  },
  {
   "cell_type": "code",
   "execution_count": 17,
   "metadata": {},
   "outputs": [],
   "source": [
    "filePath = shutil.copy(chemin+\"/chemin/report.xlsx\", 'C:/report')\n",
    "filePath = shutil.copy(chemin+\"/chemin/report.pdf\", 'C:/report')"
   ]
  },
  {
   "cell_type": "code",
   "execution_count": null,
   "metadata": {},
   "outputs": [],
   "source": [
    "# envoie du rapport par email\n",
    "import smtplib, ssl\n",
    "from email.mime.base import MIMEBase\n",
    "from email.mime.multipart import MIMEMultipart\n",
    "from email.mime.text import MIMEText\n",
    "from email import encoders\n",
    "smtp_server = 'smtp.gmail.com'\n",
    "port = 465\n",
    "destinateur = 'jiegouenkande@gmail.com'\n",
    "password = 'hector22'\n",
    "destinataire = 'jiegouenkande@gmail.com'\n",
    "nom_fichier = chemin+\"/chemin/report.xlsx\"\n",
    "message = MIMEMultipart('alternative')\n",
    "message['Subject'] = 'Etat des impressions'\n",
    "message['From'] = destinateur\n",
    "message['To'] = destinataire\n",
    "message.attach(MIMEText('Bonjour', 'plain'))\n",
    "#with open(file_name, 'rb') as attachment:\n",
    "with open(nom_fichier, 'rb') as attachment:\n",
    "    file_part = MIMEBase('application', 'octet-stream')\n",
    "    file_part.set_payload(attachment.read())\n",
    "    encoders.encode_base64(file_part)\n",
    "    file_part.add_header(\n",
    "    'Content-Disposition',\n",
    "    'attachment; filename='+ str(nom_fichier)\n",
    "    )\n",
    "    message.attach(file_part)\n",
    "context = ssl.create_default_context()\n",
    "with smtplib.SMTP_SSL(smtp_server, port, context=context) as server:\n",
    "    server.login(destinateur, password)\n",
    "    server.sendmail(destinateur, destinataire, message.as_string())\n"
   ]
  },
  {
   "cell_type": "code",
   "execution_count": null,
   "metadata": {},
   "outputs": [],
   "source": []
  }
 ],
 "metadata": {
  "kernelspec": {
   "display_name": "Python 3",
   "language": "python",
   "name": "python3"
  },
  "language_info": {
   "codemirror_mode": {
    "name": "ipython",
    "version": 3
   },
   "file_extension": ".py",
   "mimetype": "text/x-python",
   "name": "python",
   "nbconvert_exporter": "python",
   "pygments_lexer": "ipython3",
   "version": "3.8.5"
  }
 },
 "nbformat": 4,
 "nbformat_minor": 4
}
